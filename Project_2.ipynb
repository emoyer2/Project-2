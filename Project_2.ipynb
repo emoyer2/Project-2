{
  "nbformat": 4,
  "nbformat_minor": 0,
  "metadata": {
    "colab": {
      "name": "Project 2",
      "provenance": [],
      "authorship_tag": "ABX9TyMhK53JyQE162T0IDQPduc/",
      "include_colab_link": true
    },
    "kernelspec": {
      "name": "python3",
      "display_name": "Python 3"
    },
    "language_info": {
      "name": "python"
    }
  },
  "cells": [
    {
      "cell_type": "markdown",
      "metadata": {
        "id": "view-in-github",
        "colab_type": "text"
      },
      "source": [
        "<a href=\"https://colab.research.google.com/github/emoyer2/Project-2/blob/main/Project_2.ipynb\" target=\"_parent\"><img src=\"https://colab.research.google.com/assets/colab-badge.svg\" alt=\"Open In Colab\"/></a>"
      ]
    },
    {
      "cell_type": "markdown",
      "metadata": {
        "id": "kT-ki3ak3pRJ"
      },
      "source": [
        "Exercise 1"
      ]
    },
    {
      "cell_type": "code",
      "metadata": {
        "colab": {
          "base_uri": "https://localhost:8080/",
          "height": 295
        },
        "id": "ireOZhJ71X2q",
        "outputId": "edd6d0ee-1fd2-4ef4-dd74-272d0aa63fc2"
      },
      "source": [
        "from pylab import *\n",
        "t = linspace(0, 12*pi, 1000)\n",
        "z = exp(-t/12) * sin(t)\n",
        "plot(t,z,'b-')\n",
        "title(\"cool! it works!\")\n",
        "xlabel(\"time\")\n",
        "ylabel(\"displacement\")\n",
        "show()"
      ],
      "execution_count": null,
      "outputs": [
        {
          "output_type": "display_data",
          "data": {
            "image/png": "[encoded data removed]",
            "text/plain": [
              "<Figure size 432x288 with 1 Axes>"
            ]
          },
          "metadata": {
            "tags": [],
            "needs_background": "light"
          }
        }
      ]
    },
    {
      "cell_type": "markdown",
      "metadata": {
        "id": "07x2OQF26iz3"
      },
      "source": [
        "I changed the plot from 10pi to 12pi."
      ]
    },
    {
      "cell_type": "markdown",
      "metadata": {
        "id": "EGmHRnRV6d7b"
      },
      "source": [
        "Exercise 2"
      ]
    },
    {
      "cell_type": "code",
      "metadata": {
        "id": "gZQhSJi66wLf"
      },
      "source": [
        "def (v):\n",
        "    v = (2*h)/(9.81m/s**2)\n",
        "    return v\n",
        "def (h):\n",
        "    h = 1/2(9.81m/s**2)*(t)**2\n",
        "    return h\n",
        "t = linspace(0, 5)\n",
        "z = exp(-t/12) *(9.81) \n",
        "plot(t,z,'b-') \n",
        "title(\"Ethan Moyer\") \n",
        "xlabel(time) \n",
        "ylabel(height)\n",
        "    "
      ],
      "execution_count": null,
      "outputs": []
    },
    {
      "cell_type": "markdown",
      "metadata": {
        "id": "m5TkLkeS1fdn"
      },
      "source": [
        "Exercise 3"
      ]
    },
    {
      "cell_type": "code",
      "metadata": {
        "id": "ap40DFKh1ibu"
      },
      "source": [
        "\n",
        "import numpy as np\n",
        "import matplotlib.pylot as plt\n",
        "# function to draw F_theta vs theta plot\n",
        "def plot(F_theta):\n",
        "  plt.figure(1)\n",
        "# creating equally spaced x-axis points\n",
        "theta = np.arange(0,np.pi/2, 0.001)\n",
        "# F_theta equation \n",
        "y = eval(F_theta)\n",
        "# plot x_axis\n",
        "x_axis = np.zeros(theta.size)\n",
        "plt.plot(theta,x_axis)\n",
        "# plot F_theta\n",
        "plt.plot(theta,y)\n",
        "# setting axis-titles\n",
        "plt.xlabel('theta')\n",
        "plt.ylabel('F(theta)')\n",
        "# set plot title\n",
        "plt.title('Plot showing F(theta)')\n",
        "# evaluate x-axis points(theta values) where F(theta)=0 where range =2.5\n",
        "idx = np.argwhere(np.diff(np.sign(x_axis-y))!=0).reshape(-1) + 0\n",
        "# plot these ponts on plot\n",
        "plt.plot(theta[idx],y[idx],'ro')\n",
        "# return values of theta where range is 2.5m\n",
        "return theta [idx]\n",
        "u=4.8;\n",
        "R=2.5;\n",
        "h=1.2;\n",
        "# range equation\n",
        "R_eqn = 'u**2*np.sin(2*theta)/(2*9.8)+(u*np.cos(theta)*np.sqrt(u**2*np.sin(theta)**2+2*9.8*h))/9.8'\n",
        "# values of theta where range is 2.5m\n",
        "theta = plot('u**2*np.sin(2*theta)/(2*9.8)+(u*np.cos(theta)*np.sqrt(U**2*np.sin(theta)**2+2*9.8*h))/9.8-R')\n",
        "# print values of theta in degrees up to 2 decimal places\n",
        "print 'Values of theta where range = 2.5m', round(np.rad2deg(theta[0])2),'and', round(np.rad2deg(theta[1]),2),'(in degrees)'\n",
        "print 'Checking values of ranges at these values of theta:', eval(R_eqn)\n",
        "\n",
        "# show plot\n",
        "plt.show()\n"
      ],
      "execution_count": null,
      "outputs": []
    },
    {
      "cell_type": "markdown",
      "metadata": {
        "id": "_XjeEMQBJVfs"
      },
      "source": [
        "Exercise 4"
      ]
    },
    {
      "cell_type": "code",
      "metadata": {
        "id": "NypoW3oEJYlm",
        "colab": {
          "base_uri": "https://localhost:8080/"
        },
        "outputId": "4207a5dd-ad98-41ec-a712-31dd068198d9"
      },
      "source": [
        "from pylab import *\n",
        "from scipy.optimize import brentq\n",
        "R=2.5\n",
        "h=1.2\n",
        "v=4.8\n",
        "g=9.8\n",
        "def F(theta):\n",
        "      output = v*cos(theta)/g * (v*sin(theta) + sqrt(v**2*sin(theta)**2 +2*g*h))-R\n",
        "      return output\n",
        "\n",
        "answer1 = brentq(F, 0.0, 0.4)\n",
        "answer2 = brentq(F, 0.8, 1.2)\n",
        "print (answer1, answer2)"
      ],
      "execution_count": null,
      "outputs": [
        {
          "output_type": "stream",
          "text": [
            "0.05313807984145913 1.0701382717963346\n"
          ],
          "name": "stdout"
        }
      ]
    },
    {
      "cell_type": "code",
      "metadata": {
        "colab": {
          "base_uri": "https://localhost:8080/"
        },
        "id": "lWr55ENpf99J",
        "outputId": "991a2749-b107-47ac-d0e8-ae45f9c03c47"
      },
      "source": [
        "R = 1;\n",
        "u = 4.8;\n",
        "h = 1.2;\n",
        "# range equation\n",
        "R_eqn = 'u**2*np.sin(2*theta)/(2*9.8)+(u*np.cos(theta)*np.cos(theta)*np.sqrtr(u**2np.sin(theta)**2+2*9.8*h))/9.8'\n",
        "print(R_eqn)\n"
      ],
      "execution_count": null,
      "outputs": [
        {
          "output_type": "stream",
          "text": [
            "u**2*np.sin(2*theta)/(2*9.8)+(u*np.cos(theta)*np.cos(theta)*np.sqrtr(u**2np.sin(theta)**2+2*9.8*h))/9.8\n"
          ],
          "name": "stdout"
        }
      ]
    },
    {
      "cell_type": "markdown",
      "metadata": {
        "id": "FHcJpt6Vk1vs"
      },
      "source": [
        "Exercise 5"
      ]
    },
    {
      "cell_type": "code",
      "metadata": {
        "colab": {
          "base_uri": "https://localhost:8080/",
          "height": 295
        },
        "id": "5rcdl4dRk44I",
        "outputId": "7443ebe0-d99b-4371-af68-91b6d725e604"
      },
      "source": [
        "from pylab import *\n",
        "g = 9.81\n",
        "dt = 10\n",
        "N = 100\n",
        "vi = 50.0\n",
        "xi = 25.0\n",
        "t = 0\n",
        "x = vi\n",
        "v = vi\n",
        "time = array([0])\n",
        "height = array([xi])\n",
        "velocity = array([vi])\n",
        "t = t + dt\n",
        "x = x + v * dt \n",
        "v = x - g * dt\n",
        "time = append(time,t)\n",
        "height = append(height,x)\n",
        "velocity = append(velocity,v)\n",
        "plot(time, height, 'ro')\n",
        "title(\"Ethan Moyer\")\n",
        "xlabel(\"Time (s)\")\n",
        "ylabel(\"Height (m)\")\n",
        "plot(time, xi + vi*time-0.5*g*time**2, 'b-')\n",
        "show()\n",
        "\n"
      ],
      "execution_count": null,
      "outputs": [
        {
          "output_type": "display_data",
          "data": {
            "image/png": "[encoded data removed]",
            "text/plain": [
              "<Figure size 432x288 with 1 Axes>"
            ]
          },
          "metadata": {
            "tags": [],
            "needs_background": "light"
          }
        }
      ]
    },
    {
      "cell_type": "code",
      "metadata": {
        "id": "CdX1CRr8Hx4N"
      },
      "source": [
        ""
      ],
      "execution_count": null,
      "outputs": []
    },
    {
      "cell_type": "markdown",
      "metadata": {
        "id": "rZtnK5xyrqt8"
      },
      "source": [
        "Exercise 6"
      ]
    },
    {
      "cell_type": "code",
      "metadata": {
        "id": "FrbhJPcArscl"
      },
      "source": [
        "turns = [0, 1, 2, 3, 4, 5, 6, 7, 8, 9, 10]\n",
        "position = [0, -2, -11, -15, -24, -32, -40, -50, -52, -62, -65]\n",
        "polyfit()"
      ],
      "execution_count": null,
      "outputs": []
    },
    {
      "cell_type": "markdown",
      "metadata": {
        "id": "WgbMyKNv_Ixc"
      },
      "source": [
        "I believe the sensor was just a random error, it wasn't an obvious miscalibration where they were all of by a certain number, they were all different distances apart. "
      ]
    }
  ]
}